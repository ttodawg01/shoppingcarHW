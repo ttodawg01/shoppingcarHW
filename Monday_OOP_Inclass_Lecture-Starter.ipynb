{
 "cells": [
  {
   "cell_type": "markdown",
   "metadata": {},
   "source": [
    "# Object-Oriented-Programming (OOP)"
   ]
  },
  {
   "cell_type": "markdown",
   "metadata": {},
   "source": [
    "## Tasks Today:\n",
    "\n",
    "   \n",
    "\n",
    "1) <b>Creating a Class (Initializing/Declaring)</b> <br>\n",
    "2) <b>Using a Class (Instantiating)</b> <br>\n",
    " &nbsp;&nbsp;&nbsp;&nbsp; a) Creating One Instance <br>\n",
    " &nbsp;&nbsp;&nbsp;&nbsp; b) Creating Multiple Instances <br>\n",
    " &nbsp;&nbsp;&nbsp;&nbsp; c) In-Class Exercise #1 - Create a Class 'Car' and instantiate three different makes of cars <br>\n",
    "3) <b>The \\__init\\__() Method</b> <br>\n",
    " &nbsp;&nbsp;&nbsp;&nbsp; a) The 'self' Attribute <br>\n",
    "4) <b>Class Attributes</b> <br>\n",
    " &nbsp;&nbsp;&nbsp;&nbsp; a) Initializing Attributes <br>\n",
    " &nbsp;&nbsp;&nbsp;&nbsp; b) Setting an Attribute Outside of the \\__init\\__() Method <br>\n",
    " &nbsp;&nbsp;&nbsp;&nbsp; c) Setting Defaults for Attributes <br>\n",
    " &nbsp;&nbsp;&nbsp;&nbsp; d) Accessing Class Attributes <br>\n",
    " &nbsp;&nbsp;&nbsp;&nbsp; e) Changing Class Attributes <br>\n",
    " &nbsp;&nbsp;&nbsp;&nbsp; f) In-Class Exercise #2 - Update your 'Car' class with \\__init\\__() method and class attributes<br>\n",
    "5) <b>Class Methods</b> <br>\n",
    " &nbsp;&nbsp;&nbsp;&nbsp; a) Creating <br>\n",
    " &nbsp;&nbsp;&nbsp;&nbsp; b) Calling <br>\n",
    " &nbsp;&nbsp;&nbsp;&nbsp; c) Modifying an Attribute's Value Through a Method <br>\n",
    " &nbsp;&nbsp;&nbsp;&nbsp; d) Incrementing an Attribute's Value Through a Method <br>\n",
    " &nbsp;&nbsp;&nbsp;&nbsp; e) In-Class Exercise #3 - Update Car class with new methods <br>\n",
    "6) <b>Classes as Attributes</b> <br>\n",
    "8) <b>Exercises</b> <br>\n",
    " &nbsp;&nbsp;&nbsp;&nbsp; a) Exercise #1 - Turn the shopping cart program from yesterday into an object-oriented program <br>\n",
    "  &nbsp;&nbsp;&nbsp;&nbsp; a) Exercise #2 - Create an Animal class with Eat, Sleep, and Play methods <br>"
   ]
  },
  {
   "cell_type": "code",
   "execution_count": null,
   "metadata": {},
   "outputs": [],
   "source": []
  },
  {
   "cell_type": "markdown",
   "metadata": {},
   "source": [
    "#### Object-Oriented Programming"
   ]
  },
  {
   "cell_type": "markdown",
   "metadata": {},
   "source": [
    "Object-Oriented Programming (OOP) allows us to create programs so that that properties and behaviors are bundled into **objects**. OOP models real-world entities as software objects that have some data associated with them and can perform certain functions."
   ]
  },
  {
   "cell_type": "markdown",
   "metadata": {},
   "source": [
    "## Creating a Class (Initializing/Declaring)\n",
    "<p>When creating a class, function, or even a variable you are initializing that object. Initializing and Declaring occur at the same time in Python, whereas in lower level languages you have to declare an object before initializing it. This is the first step in the process of using a class.</p>"
   ]
  },
  {
   "cell_type": "code",
   "execution_count": 7,
   "metadata": {},
   "outputs": [],
   "source": [
    "name = 'tony'\n",
    "my_list = [1,2,3,4]\n",
    "x = 10\n",
    "def my_func(a):\n",
    "    pass"
   ]
  },
  {
   "cell_type": "code",
   "execution_count": 8,
   "metadata": {
    "scrolled": false
   },
   "outputs": [
    {
     "name": "stdout",
     "output_type": "stream",
     "text": [
      "Help on function my_func in module __main__:\n",
      "\n",
      "my_func(a)\n",
      "\n"
     ]
    }
   ],
   "source": [
    "help(my_func)"
   ]
  },
  {
   "cell_type": "code",
   "execution_count": 9,
   "metadata": {},
   "outputs": [
    {
     "name": "stdout",
     "output_type": "stream",
     "text": [
      "Help on class Student in module __main__:\n",
      "\n",
      "class Student(builtins.object)\n",
      " |  Data descriptors defined here:\n",
      " |  \n",
      " |  __dict__\n",
      " |      dictionary for instance variables (if defined)\n",
      " |  \n",
      " |  __weakref__\n",
      " |      list of weak references to the object (if defined)\n",
      "\n"
     ]
    }
   ],
   "source": [
    "class Student():\n",
    "    pass\n",
    "\n",
    "help(Student)"
   ]
  },
  {
   "cell_type": "code",
   "execution_count": 10,
   "metadata": {},
   "outputs": [
    {
     "name": "stdout",
     "output_type": "stream",
     "text": [
      "{'__module__': '__main__', '__dict__': <attribute '__dict__' of 'Student' objects>, '__weakref__': <attribute '__weakref__' of 'Student' objects>, '__doc__': None}\n"
     ]
    }
   ],
   "source": [
    "print(Student.__dict__)"
   ]
  },
  {
   "cell_type": "markdown",
   "metadata": {},
   "source": [
    "## Using a Class (Instantiating)\n",
    "<p>The process of creating a class is called <i>Instantiating</i>. Each time you create a variable of that type of class, it is referred to as an <i>Instance</i> of that class. This is the second step in the process of using a class.</p>"
   ]
  },
  {
   "cell_type": "code",
   "execution_count": 11,
   "metadata": {},
   "outputs": [
    {
     "name": "stdout",
     "output_type": "stream",
     "text": [
      "2609772769216\n",
      "2609744294080\n"
     ]
    }
   ],
   "source": [
    "\n",
    "a_list = [1,2,3,4]\n",
    "b_list = [5,6,7,8]\n",
    "\n",
    "print(id(a_list))\n",
    "print(id(b_list))"
   ]
  },
  {
   "cell_type": "code",
   "execution_count": 12,
   "metadata": {},
   "outputs": [
    {
     "name": "stdout",
     "output_type": "stream",
     "text": [
      "[1, 2, 3, 4]\n",
      "[5, 6, 7, 8]\n",
      "[1, 2, 3, 4]\n",
      "[5, 6, 7, 8, 100]\n"
     ]
    }
   ],
   "source": [
    "print(a_list)\n",
    "print(b_list)\n",
    "b_list.append(100)\n",
    "print(a_list)\n",
    "print(b_list)"
   ]
  },
  {
   "cell_type": "markdown",
   "metadata": {},
   "source": [
    "##### Creating One Instance"
   ]
  },
  {
   "cell_type": "code",
   "execution_count": 13,
   "metadata": {},
   "outputs": [
    {
     "name": "stdout",
     "output_type": "stream",
     "text": [
      "<__main__.Student object at 0x0000025FA1EE8970>\n"
     ]
    },
    {
     "data": {
      "text/plain": [
       "<__main__.Student at 0x25fa1ee8970>"
      ]
     },
     "execution_count": 13,
     "metadata": {},
     "output_type": "execute_result"
    }
   ],
   "source": [
    "#syntax: \n",
    "student_1 = Student()\n",
    "\n",
    "print(student_1)\n",
    "student_1"
   ]
  },
  {
   "cell_type": "markdown",
   "metadata": {},
   "source": [
    "##### Creating Multiple Instances"
   ]
  },
  {
   "cell_type": "code",
   "execution_count": 14,
   "metadata": {
    "scrolled": true
   },
   "outputs": [
    {
     "name": "stdout",
     "output_type": "stream",
     "text": [
      "<__main__.Student object at 0x0000025FA0DCB7F0>\n",
      "<__main__.Student object at 0x0000025FA0DCBEE0>\n"
     ]
    }
   ],
   "source": [
    "student_2 = Student()\n",
    "print(student_2)\n",
    "\n",
    "student_3 = Student()\n",
    "print(student_3)"
   ]
  },
  {
   "cell_type": "code",
   "execution_count": 15,
   "metadata": {},
   "outputs": [
    {
     "ename": "NameError",
     "evalue": "name 'student1' is not defined",
     "output_type": "error",
     "traceback": [
      "\u001b[1;31m---------------------------------------------------------------------------\u001b[0m",
      "\u001b[1;31mNameError\u001b[0m                                 Traceback (most recent call last)",
      "Input \u001b[1;32mIn [15]\u001b[0m, in \u001b[0;36m<cell line: 1>\u001b[1;34m()\u001b[0m\n\u001b[1;32m----> 1\u001b[0m \u001b[38;5;28misinstance\u001b[39m(\u001b[43mstudent1\u001b[49m,Student)\n",
      "\u001b[1;31mNameError\u001b[0m: name 'student1' is not defined"
     ]
    }
   ],
   "source": [
    "isinstance(student1,Student)"
   ]
  },
  {
   "cell_type": "markdown",
   "metadata": {},
   "source": [
    "##### Adding attributes to instances"
   ]
  },
  {
   "cell_type": "code",
   "execution_count": 16,
   "metadata": {
    "scrolled": true
   },
   "outputs": [
    {
     "name": "stdout",
     "output_type": "stream",
     "text": [
      "{'first_name': 'John', 'last_name': 'Smith'}\n",
      "{'first_name': 'Laura', 'last_name': 'Green'}\n"
     ]
    }
   ],
   "source": [
    "#syntax: instance_var_name.attribute_name = value\n",
    "\n",
    "student_1.first_name = 'John'\n",
    "student_1.last_name = 'Smith'\n",
    "\n",
    "student_2.first_name = 'Laura'\n",
    "student_2.last_name = 'Green'\n",
    "\n",
    "print(student_1.__dict__)\n",
    "print(student_2.__dict__)"
   ]
  },
  {
   "cell_type": "markdown",
   "metadata": {},
   "source": [
    "##### In-Class Exercise #1 - Create a Class 'Car' and Instantiate three different car instances. Add a different make for each car."
   ]
  },
  {
   "cell_type": "code",
   "execution_count": 17,
   "metadata": {},
   "outputs": [
    {
     "name": "stdout",
     "output_type": "stream",
     "text": [
      "{'make': 'honda'}\n",
      "Honda\n",
      "Toyota\n",
      "Benz\n"
     ]
    }
   ],
   "source": [
    "class Car():\n",
    "    pass\n",
    "car1 = Car()\n",
    "car2 = Car()\n",
    "car3 = Car()\n",
    "\n",
    "car1.make = 'honda'\n",
    "car2.make = 'toyota'\n",
    "car3.make = 'benz'\n",
    "\n",
    "cars =[car1,car2,car3]\n",
    "print(car1.__dict__)\n",
    "\n",
    "for x in cars:\n",
    "    print(x.make.title())"
   ]
  },
  {
   "cell_type": "markdown",
   "metadata": {},
   "source": [
    "## The \\__init\\__() Method <br>\n",
    "<p>This method is used in almost every created class, and called only once upon the creation of the class instance. This method will initialize all variables needed for the object.</p>"
   ]
  },
  {
   "cell_type": "markdown",
   "metadata": {},
   "source": [
    "##### The 'self' Attribute <br>\n",
    "<p>This attribute is required to keep track of specific instance's attributes. Without the self attribute, the program would not know how to reference or keep track of an instance's attributes.</p>"
   ]
  },
  {
   "cell_type": "code",
   "execution_count": 18,
   "metadata": {},
   "outputs": [
    {
     "name": "stdout",
     "output_type": "stream",
     "text": [
      "Help on method_descriptor:\n",
      "\n",
      "upper(self, /)\n",
      "    Return a copy of the string converted to uppercase.\n",
      "\n"
     ]
    }
   ],
   "source": [
    "help(str.upper)"
   ]
  },
  {
   "cell_type": "code",
   "execution_count": 19,
   "metadata": {},
   "outputs": [
    {
     "name": "stdout",
     "output_type": "stream",
     "text": [
      "BRIAN Stanton\n"
     ]
    }
   ],
   "source": [
    "name1 = 'Brian'\n",
    "name2 = \"Stanton\"\n",
    "\n",
    "print(name1.upper(), name2)"
   ]
  },
  {
   "cell_type": "code",
   "execution_count": 20,
   "metadata": {},
   "outputs": [
    {
     "data": {
      "text/plain": [
       "'BRIAN'"
      ]
     },
     "execution_count": 20,
     "metadata": {},
     "output_type": "execute_result"
    }
   ],
   "source": [
    "str.upper(name1)"
   ]
  },
  {
   "cell_type": "code",
   "execution_count": 21,
   "metadata": {
    "scrolled": true
   },
   "outputs": [
    {
     "data": {
      "text/plain": [
       "'BRIAN'"
      ]
     },
     "execution_count": 21,
     "metadata": {},
     "output_type": "execute_result"
    }
   ],
   "source": [
    "name1.upper()"
   ]
  },
  {
   "cell_type": "code",
   "execution_count": 26,
   "metadata": {},
   "outputs": [
    {
     "name": "stdout",
     "output_type": "stream",
     "text": [
      "<__main__.Student object at 0x0000025FA20C8280>\n",
      "jack\n"
     ]
    }
   ],
   "source": [
    "def create_student(first,last,teacher):\n",
    "    student_instance = Student()\n",
    "    student_instance.first_name = first\n",
    "    student_instance.last_name = last\n",
    "    student_instance.teacher = teacher\n",
    "    return student_instance\n",
    "\n",
    "new_student = create_student('jack', 'johnson', 'Mr Teacherson')\n",
    "print(new_student)\n",
    "print(new_student.first_name)"
   ]
  },
  {
   "cell_type": "code",
   "execution_count": 27,
   "metadata": {
    "scrolled": true
   },
   "outputs": [
    {
     "name": "stdout",
     "output_type": "stream",
     "text": [
      "{'first_name': 'jack', 'last_name': 'johnson', 'teacher': 'Mr Teacherson'}\n"
     ]
    }
   ],
   "source": [
    "print(new_student.__dict__)"
   ]
  },
  {
   "cell_type": "code",
   "execution_count": 28,
   "metadata": {},
   "outputs": [
    {
     "name": "stdout",
     "output_type": "stream",
     "text": [
      "<__main__.Student object at 0x0000025FA20B29D0>\n",
      "{'first_name': 'sally', 'last_name': 'mcdoogle', 'teacher': 'mrs teacherson'}\n"
     ]
    }
   ],
   "source": [
    "def create_student_like_innit(self,first,last,teacher):\n",
    "    self.first_name = first\n",
    "    self.last_name = last\n",
    "    self.teacher = teacher\n",
    "    \n",
    "    return self\n",
    "\n",
    "newer_student = create_student_like_innit(Student(), 'sally', 'mcdoogle', 'mrs teacherson')\n",
    "print(newer_student)\n",
    "print(newer_student.__dict__)"
   ]
  },
  {
   "cell_type": "code",
   "execution_count": 30,
   "metadata": {
    "scrolled": true
   },
   "outputs": [
    {
     "name": "stdout",
     "output_type": "stream",
     "text": [
      "hello i am creating a new student\n",
      "self <__main__.Student object at 0x0000025FA212D370>\n",
      "<__main__.Student object at 0x0000025FA212D370>\n",
      "{'first_name': 'alex', 'last_name': 'allison', 'teacher': 'Mrs Kelly'}\n"
     ]
    }
   ],
   "source": [
    "class Student:\n",
    "    def __init__(self,first,last,teacher):\n",
    "        print(\"hello i am creating a new student\")\n",
    "        print('self', self)\n",
    "        self.first_name = first\n",
    "        self.last_name = last\n",
    "        self.teacher = teacher\n",
    "        \n",
    "newer_student = Student('Frank', 'Butler', 'Mrs Kelly')\n",
    "print(newer_student)\n",
    "print(newer_student.__dict__)"
   ]
  },
  {
   "cell_type": "code",
   "execution_count": 31,
   "metadata": {
    "scrolled": true
   },
   "outputs": [
    {
     "name": "stdout",
     "output_type": "stream",
     "text": [
      "hello i am creating a new student\n",
      "self <__main__.Student object at 0x0000025FA0DF58B0>\n"
     ]
    }
   ],
   "source": [
    "student_a = Student('Alex', 'Alisson', 'mr allison')"
   ]
  },
  {
   "cell_type": "code",
   "execution_count": 32,
   "metadata": {
    "scrolled": true
   },
   "outputs": [
    {
     "data": {
      "text/plain": [
       "'Alisson'"
      ]
     },
     "execution_count": 32,
     "metadata": {},
     "output_type": "execute_result"
    }
   ],
   "source": [
    "student_a.last_name"
   ]
  },
  {
   "cell_type": "code",
   "execution_count": 34,
   "metadata": {
    "scrolled": true
   },
   "outputs": [
    {
     "name": "stdout",
     "output_type": "stream",
     "text": [
      "Help on class Student in module __main__:\n",
      "\n",
      "class Student(builtins.object)\n",
      " |  Student(first, last, teacher)\n",
      " |  \n",
      " |  Methods defined here:\n",
      " |  \n",
      " |  __init__(self, first, last, teacher)\n",
      " |      Initialize self.  See help(type(self)) for accurate signature.\n",
      " |  \n",
      " |  ----------------------------------------------------------------------\n",
      " |  Data descriptors defined here:\n",
      " |  \n",
      " |  __dict__\n",
      " |      dictionary for instance variables (if defined)\n",
      " |  \n",
      " |  __weakref__\n",
      " |      list of weak references to the object (if defined)\n",
      "\n"
     ]
    }
   ],
   "source": [
    "help(Student)"
   ]
  },
  {
   "cell_type": "code",
   "execution_count": 39,
   "metadata": {},
   "outputs": [
    {
     "name": "stdout",
     "output_type": "stream",
     "text": [
      "{'first': 'tony', 'last': 'campos', 'teacher': 'mr horn'}\n",
      "{'first': 'elon', 'last': 'musk', 'teacher': 'mr horn'}\n",
      "{'first': 'bill', 'last': 'gates', 'teacher': 'Mr einstien'}\n"
     ]
    }
   ],
   "source": [
    "class Student():\n",
    "    def __init__(self,first,last,teacher='mr horn'):\n",
    "        self.first = first\n",
    "        self.last = last\n",
    "        self.teacher = teacher\n",
    "        \n",
    "student1 =Student('tony','campos')\n",
    "print(student1.__dict__)\n",
    "\n",
    "student2 = Student('elon', 'musk')\n",
    "print(student2.__dict__)\n",
    "\n",
    "student4 = Student('bill', 'gates', 'Mr einstien')\n",
    "print(student4.__dict__)"
   ]
  },
  {
   "cell_type": "markdown",
   "metadata": {},
   "source": [
    "## Class Attributes <br>\n",
    "<p>While variables are inside of a class, they are referred to as attributes and not variables. When someone says 'attribute' you know they're speaking about a class. Attributes can be initialized through the init method, or outside of it.</p>"
   ]
  },
  {
   "cell_type": "markdown",
   "metadata": {},
   "source": [
    "##### Initializing Attributes"
   ]
  },
  {
   "cell_type": "code",
   "execution_count": 40,
   "metadata": {},
   "outputs": [],
   "source": [
    "class Truck:\n",
    "    wheels = 4\n",
    "    \n",
    "    def __init__(self,color,make):\n",
    "        self.color = color\n",
    "        self.make = make\n",
    "        \n",
    "\n",
    "        \n",
    "truck1 = Truck('blue', 'Ford')\n",
    "truck2 = Truck('red', 'Chevy')"
   ]
  },
  {
   "cell_type": "code",
   "execution_count": 41,
   "metadata": {
    "scrolled": true
   },
   "outputs": [
    {
     "name": "stdout",
     "output_type": "stream",
     "text": [
      "{'color': 'blue', 'make': 'Ford'}\n"
     ]
    }
   ],
   "source": [
    "print(truck1.__dict__)"
   ]
  },
  {
   "cell_type": "code",
   "execution_count": 45,
   "metadata": {},
   "outputs": [
    {
     "name": "stdout",
     "output_type": "stream",
     "text": [
      "blue\n",
      "red\n",
      "4\n"
     ]
    }
   ],
   "source": [
    "print(truck1.color)\n",
    "print(truck2.color)\n",
    "print(truck1.wheels)"
   ]
  },
  {
   "cell_type": "code",
   "execution_count": 46,
   "metadata": {},
   "outputs": [
    {
     "name": "stdout",
     "output_type": "stream",
     "text": [
      "{'__module__': '__main__', 'wheels': 4, '__init__': <function Truck.__init__ at 0x0000025FA0DE2CA0>, '__dict__': <attribute '__dict__' of 'Truck' objects>, '__weakref__': <attribute '__weakref__' of 'Truck' objects>, '__doc__': None}\n"
     ]
    }
   ],
   "source": [
    "print(Truck.__dict__)"
   ]
  },
  {
   "cell_type": "markdown",
   "metadata": {},
   "source": [
    "##### Accessing Class Attributes"
   ]
  },
  {
   "cell_type": "code",
   "execution_count": null,
   "metadata": {
    "scrolled": true
   },
   "outputs": [],
   "source": [
    "# See Above same as accessing instance attributes -- instance.attribute_name"
   ]
  },
  {
   "cell_type": "markdown",
   "metadata": {},
   "source": [
    "##### Setting Defaults for Attributes"
   ]
  },
  {
   "cell_type": "code",
   "execution_count": 47,
   "metadata": {
    "scrolled": true
   },
   "outputs": [
    {
     "name": "stdout",
     "output_type": "stream",
     "text": [
      "{'first': 'tony', 'last': 'campos', 'teacher': 'mr horn'}\n",
      "{'first': 'elon', 'last': 'musk', 'teacher': 'mr horn'}\n",
      "{'first': 'bill', 'last': 'gates', 'teacher': 'Mr einstien'}\n"
     ]
    }
   ],
   "source": [
    "class Student():\n",
    "    def __init__(self,first,last,teacher='mr horn'):\n",
    "        self.first = first\n",
    "        self.last = last\n",
    "        self.teacher = teacher\n",
    "        \n",
    "student1 =Student('tony','campos')\n",
    "print(student1.__dict__)\n",
    "\n",
    "student2 = Student('elon', 'musk')\n",
    "print(student2.__dict__)\n",
    "\n",
    "student4 = Student('bill', 'gates', 'Mr einstien')\n",
    "print(student4.__dict__)"
   ]
  },
  {
   "cell_type": "code",
   "execution_count": 50,
   "metadata": {},
   "outputs": [
    {
     "name": "stdout",
     "output_type": "stream",
     "text": [
      "{'color': 'blue', 'brand': 'Schwinn', 'wheels': 2}\n"
     ]
    }
   ],
   "source": [
    "class Bike():\n",
    "    \n",
    "    def __init__(self, color, brand='Schwinn'):\n",
    "        self.color = color\n",
    "        self.brand = brand\n",
    "        self.wheels = 2 #hard code\n",
    "        \n",
    "        \n",
    "my_bike = Bike('blue')\n",
    "your_bike = Bike('red', 'Giant')\n",
    "print(my_bike.__dict__)"
   ]
  },
  {
   "cell_type": "code",
   "execution_count": 51,
   "metadata": {},
   "outputs": [
    {
     "name": "stdout",
     "output_type": "stream",
     "text": [
      "{'color': 'red', 'brand': 'Giant', 'wheels': 2}\n"
     ]
    }
   ],
   "source": [
    "print(your_bike.__dict__)"
   ]
  },
  {
   "cell_type": "markdown",
   "metadata": {},
   "source": [
    "##### Changing Class Attributes <br>\n",
    "<p>Keep in mind there are global class attributes and then there are attributes only available to each class instance which won't effect other classes.</p>"
   ]
  },
  {
   "cell_type": "code",
   "execution_count": 53,
   "metadata": {},
   "outputs": [],
   "source": [
    "class Truck():\n",
    "    wheels = 4 # Class attribute\n",
    "    \n",
    "    def __init__(self, color, make):\n",
    "        self.color = color # instance attributes\n",
    "        self.make = make"
   ]
  },
  {
   "cell_type": "code",
   "execution_count": 54,
   "metadata": {},
   "outputs": [],
   "source": [
    "truck1 = Truck('blue', 'chevy')\n",
    "truck2 = Truck('red', 'toyota')"
   ]
  },
  {
   "cell_type": "code",
   "execution_count": 57,
   "metadata": {},
   "outputs": [
    {
     "name": "stdout",
     "output_type": "stream",
     "text": [
      "4\n",
      "4\n",
      "{'color': 'blue', 'make': 'chevy'}\n",
      "{'color': 'red', 'make': 'toyota'}\n",
      "{'__module__': '__main__', 'wheels': 4, '__init__': <function Truck.__init__ at 0x0000025FA0DE2940>, '__dict__': <attribute '__dict__' of 'Truck' objects>, '__weakref__': <attribute '__weakref__' of 'Truck' objects>, '__doc__': None}\n"
     ]
    }
   ],
   "source": [
    "print(truck1.wheels)\n",
    "print(truck2.wheels)\n",
    "print(truck1.__dict__)\n",
    "print(truck2.__dict__)\n",
    "print(Truck.__dict__)"
   ]
  },
  {
   "cell_type": "code",
   "execution_count": 59,
   "metadata": {},
   "outputs": [
    {
     "name": "stdout",
     "output_type": "stream",
     "text": [
      "16\n",
      "4\n",
      "\n",
      "{'color': 'blue', 'make': 'chevy', 'wheels': 16}\n",
      "{'color': 'red', 'make': 'toyota'}\n",
      "{'__module__': '__main__', 'wheels': 4, '__init__': <function Truck.__init__ at 0x0000025FA0DE2940>, '__dict__': <attribute '__dict__' of 'Truck' objects>, '__weakref__': <attribute '__weakref__' of 'Truck' objects>, '__doc__': None}\n"
     ]
    }
   ],
   "source": [
    "truck1.wheels = 16\n",
    "print(truck1.wheels)\n",
    "print(truck2.wheels)\n",
    "print()\n",
    "print(truck1.__dict__)\n",
    "print(truck2.__dict__)\n",
    "print(Truck.__dict__)"
   ]
  },
  {
   "cell_type": "code",
   "execution_count": 60,
   "metadata": {},
   "outputs": [
    {
     "name": "stdout",
     "output_type": "stream",
     "text": [
      "16\n",
      "24\n",
      "\n",
      "{'color': 'blue', 'make': 'chevy', 'wheels': 16}\n",
      "{'color': 'red', 'make': 'toyota'}\n",
      "{'__module__': '__main__', 'wheels': 24, '__init__': <function Truck.__init__ at 0x0000025FA0DE2940>, '__dict__': <attribute '__dict__' of 'Truck' objects>, '__weakref__': <attribute '__weakref__' of 'Truck' objects>, '__doc__': None}\n"
     ]
    }
   ],
   "source": [
    "Truck.wheels = 24\n",
    "print(truck1.wheels)\n",
    "print(truck2.wheels)\n",
    "print()\n",
    "print(truck1.__dict__)\n",
    "print(truck2.__dict__)\n",
    "print(Truck.__dict__)"
   ]
  },
  {
   "cell_type": "markdown",
   "metadata": {},
   "source": [
    "##### In-Class Exercise 2 - Create an \\__init__ method for your Car class which takes in color and model with a default value for gas_level of 100. Your class should also have a class attribute for model. Once you have created the class, instantiate 3 different cars"
   ]
  },
  {
   "cell_type": "code",
   "execution_count": 73,
   "metadata": {},
   "outputs": [
    {
     "name": "stdout",
     "output_type": "stream",
     "text": [
      "{'color': 'blue', 'model': 'accord', 'gas_level': 100}\n",
      "{'color': 'green', 'model': 'civic', 'gas_level': 100}\n",
      "{'color': 'purple', 'model': 'wagon', 'gas_level': 100}\n",
      "{'color': 'blue', 'model': 'accord', 'gas_level': 100, 'make': 'toyota'}\n",
      "toyota\n",
      "honda\n",
      "honda\n"
     ]
    }
   ],
   "source": [
    "class Car:\n",
    "    make = 'honda'\n",
    "    def __init__(self, color, model, gas_level=100):\n",
    "        self.color = color\n",
    "        self.model = model\n",
    "        self.gas_level = 100\n",
    "        \n",
    "car1 = Car('blue', 'accord')\n",
    "car2 = Car('green', 'civic')\n",
    "car3 = Car('purple', 'wagon')\n",
    "\n",
    "cars = [car1,car2,car3]\n",
    "print(car1.__dict__)\n",
    "print(car2.__dict__)\n",
    "print(car3.__dict__)\n",
    "\n",
    "# print(Car.__dict__)\n",
    "car1.make = 'toyota'\n",
    "print(car1.__dict__)\n",
    "\n",
    "for car in cars:\n",
    "    print(car.make)"
   ]
  },
  {
   "cell_type": "markdown",
   "metadata": {},
   "source": [
    "## Class Methods <br>\n",
    "<p>While inside of a class, functions are referred to as 'methods'. If you hear someone mention methods, they're speaking about classes. Methods are essentially functions, but only callable on the instances of a class.</p>"
   ]
  },
  {
   "cell_type": "markdown",
   "metadata": {},
   "source": [
    "##### Creating"
   ]
  },
  {
   "cell_type": "code",
   "execution_count": null,
   "metadata": {},
   "outputs": [],
   "source": []
  },
  {
   "cell_type": "code",
   "execution_count": 74,
   "metadata": {},
   "outputs": [
    {
     "name": "stdout",
     "output_type": "stream",
     "text": [
      "[1, 2, 3, 'hello']\n"
     ]
    }
   ],
   "source": [
    "list_123 = [1,2,3]\n",
    "list_123.append(\"hello\")\n",
    "print(list_123)"
   ]
  },
  {
   "cell_type": "code",
   "execution_count": 75,
   "metadata": {
    "scrolled": true
   },
   "outputs": [
    {
     "ename": "AttributeError",
     "evalue": "'tuple' object has no attribute 'append'",
     "output_type": "error",
     "traceback": [
      "\u001b[1;31m---------------------------------------------------------------------------\u001b[0m",
      "\u001b[1;31mAttributeError\u001b[0m                            Traceback (most recent call last)",
      "Input \u001b[1;32mIn [75]\u001b[0m, in \u001b[0;36m<cell line: 2>\u001b[1;34m()\u001b[0m\n\u001b[0;32m      1\u001b[0m \u001b[38;5;28mtuple\u001b[39m \u001b[38;5;241m=\u001b[39m(\u001b[38;5;241m1\u001b[39m,\u001b[38;5;241m2\u001b[39m,\u001b[38;5;241m3\u001b[39m)\n\u001b[1;32m----> 2\u001b[0m \u001b[38;5;28;43mtuple\u001b[39;49m\u001b[38;5;241;43m.\u001b[39;49m\u001b[43mappend\u001b[49m(\u001b[38;5;124m\"\u001b[39m\u001b[38;5;124mhello\u001b[39m\u001b[38;5;124m\"\u001b[39m)\n\u001b[0;32m      3\u001b[0m \u001b[38;5;28mprint\u001b[39m(\u001b[38;5;28mtuple\u001b[39m)\n",
      "\u001b[1;31mAttributeError\u001b[0m: 'tuple' object has no attribute 'append'"
     ]
    }
   ],
   "source": [
    "tuple =(1,2,3)\n",
    "tuple.append(\"hello\")\n",
    "print(tuple)"
   ]
  },
  {
   "cell_type": "code",
   "execution_count": 137,
   "metadata": {},
   "outputs": [],
   "source": [
    "# Syntax: clas Classname:\n",
    "#             def method_name(self,...):\n",
    "#                 code to run when executed\n",
    "\n",
    "class Employee:\n",
    "    \n",
    "    raise_amount = 1.05  #class attribute to raise salary 5%\n",
    "    \n",
    "    def __init__(self,first,last,salary):\n",
    "        self.first_name = first.title()\n",
    "        self.last_name = last.title()\n",
    "        self.salary = salary\n",
    "        self.email = first.lower() + \" \" + last.lower() + \"@company.org\"\n",
    "        \n",
    "    def get_full_name(self):\n",
    "        return self.first_name + ' ' + self.last_name\n",
    "    \n",
    "    def change_last_name(self,new_last_name):\n",
    "        self.last_name = new_last_name.title()\n",
    "        self.email = self.first_name.lower() + ('.') + new_last_name.lower() + \"@company.com\"\n",
    "        \n",
    "    def apply_raise(self):\n",
    "        self.salary *= self.raise_amount #self.salary = self.salary * self.raise_amount\n",
    "        print(f\"Congrats {self.get_full_name()}, you have recieved a raise and your new salary is ${self.salary}\")\n",
    "        \n",
    "emp_1 = Employee('charlie', \"bucket\", 100000)\n",
    "emp_2 = Employee('veruca', 'salt', 50000)"
   ]
  },
  {
   "cell_type": "code",
   "execution_count": 138,
   "metadata": {},
   "outputs": [
    {
     "data": {
      "text/plain": [
       "'Veruca Salt'"
      ]
     },
     "execution_count": 138,
     "metadata": {},
     "output_type": "execute_result"
    }
   ],
   "source": [
    "def get_full_name(employee_instance):\n",
    "    return employee_instance.first_name + ' ' + employee_instance.last_name\n",
    "\n",
    "get_full_name(emp_1)\n",
    "get_full_name(emp_2)\n"
   ]
  },
  {
   "cell_type": "markdown",
   "metadata": {},
   "source": [
    "##### Calling"
   ]
  },
  {
   "cell_type": "code",
   "execution_count": 139,
   "metadata": {},
   "outputs": [
    {
     "data": {
      "text/plain": [
       "'Charlie Bucket'"
      ]
     },
     "execution_count": 139,
     "metadata": {},
     "output_type": "execute_result"
    }
   ],
   "source": [
    "# Syntax: instance_var.method_name() or instance_var.method_name(arg1,...)\n",
    "emp_1.get_full_name()"
   ]
  },
  {
   "cell_type": "code",
   "execution_count": 140,
   "metadata": {
    "scrolled": true
   },
   "outputs": [
    {
     "data": {
      "text/plain": [
       "'Veruca Salt'"
      ]
     },
     "execution_count": 140,
     "metadata": {},
     "output_type": "execute_result"
    }
   ],
   "source": [
    "emp_2.get_full_name()"
   ]
  },
  {
   "cell_type": "code",
   "execution_count": 141,
   "metadata": {},
   "outputs": [
    {
     "data": {
      "text/plain": [
       "True"
      ]
     },
     "execution_count": 141,
     "metadata": {},
     "output_type": "execute_result"
    }
   ],
   "source": [
    "Employee.get_full_name(emp_1) == emp_1.get_full_name()"
   ]
  },
  {
   "cell_type": "markdown",
   "metadata": {},
   "source": [
    "##### Modifying an Attribute's Value Through a Method"
   ]
  },
  {
   "cell_type": "code",
   "execution_count": 142,
   "metadata": {},
   "outputs": [
    {
     "name": "stdout",
     "output_type": "stream",
     "text": [
      "Charlie Bucket\n",
      "Charlie Wonka\n"
     ]
    }
   ],
   "source": [
    "def change_last_name(employee_instance,new_last_name):\n",
    "    employee_instance.last_name = new_last_name.title()\n",
    "    employee_instance.email = employee_instance.first_name.lower() + ('.') + new_last_name.lower() + \"@company.com\"\n",
    "    \n",
    "print(emp_1.get_full_name())\n",
    "change_last_name(emp_1, \"Wonka\")\n",
    "print(emp_1.get_full_name())"
   ]
  },
  {
   "cell_type": "code",
   "execution_count": 143,
   "metadata": {
    "scrolled": true
   },
   "outputs": [
    {
     "name": "stdout",
     "output_type": "stream",
     "text": [
      "charlie.wonka@company.com\n"
     ]
    }
   ],
   "source": [
    "print(emp_1.email)"
   ]
  },
  {
   "cell_type": "code",
   "execution_count": 144,
   "metadata": {},
   "outputs": [
    {
     "name": "stdout",
     "output_type": "stream",
     "text": [
      "Before Name Change: Veruca Salt\n",
      "After Name Change: Veruca Pepper\n",
      "veruca.pepper@company.com\n"
     ]
    }
   ],
   "source": [
    "print(\"Before Name Change:\", emp_2.get_full_name())\n",
    "emp_2.change_last_name(\"Pepper\")\n",
    "print(\"After Name Change:\", emp_2.get_full_name())\n",
    "print(emp_2.email)"
   ]
  },
  {
   "cell_type": "markdown",
   "metadata": {},
   "source": [
    "##### Incrementing an Attribute's Value Through a Method"
   ]
  },
  {
   "cell_type": "code",
   "execution_count": 145,
   "metadata": {
    "scrolled": true
   },
   "outputs": [
    {
     "name": "stdout",
     "output_type": "stream",
     "text": [
      "100000\n",
      "Congrats Charlie Wonka, you have recieved a raise and your new salary is $105000.0\n"
     ]
    }
   ],
   "source": [
    "print(emp_1.salary)\n",
    "emp_1.apply_raise()"
   ]
  },
  {
   "cell_type": "code",
   "execution_count": 146,
   "metadata": {},
   "outputs": [
    {
     "name": "stdout",
     "output_type": "stream",
     "text": [
      "Congrats Charlie Wonka, you have recieved a raise and your new salary is $110250.0\n"
     ]
    }
   ],
   "source": [
    "emp_1.apply_raise()"
   ]
  },
  {
   "cell_type": "markdown",
   "metadata": {},
   "source": [
    "##### In-Class Exercise #3 - Add two methods to your car class. One method called `drive` that will take in the number of miles and decrease that car's `gas_level` by 1 unit for every 5 miles. Another method called `fill_up` will take in gallons and increase the `gas_level` by 10 units for every gallon."
   ]
  },
  {
   "cell_type": "code",
   "execution_count": 156,
   "metadata": {},
   "outputs": [
    {
     "name": "stdout",
     "output_type": "stream",
     "text": [
      "The Blue accord now has a gas level of 80\n",
      "The Blue accord now has a gas level of 130\n",
      "The Green civic now has a gas level of 90\n",
      "The Green civic now has a gas level of 120\n"
     ]
    }
   ],
   "source": [
    "class Car:\n",
    "    make =\"honda\"\n",
    "    \n",
    "    def __init__(self, color, model, gas_level=100):\n",
    "        self.color = color\n",
    "        self.model = model\n",
    "        self.gas_level = gas_level\n",
    "\n",
    "    def drive(self, num_miles_driven):\n",
    "        unit_decrease = num_miles_driven // 5\n",
    "        self.gas_level -= unit_decrease #self.gas_level = self.gas_level - unit_decrease\n",
    "        print(f\"The {self.color} {self.model} now has a gas level of {self.gas_level}\")\n",
    "\n",
    "    \n",
    "    def fill_up(self, gallons):\n",
    "        unit_increase = gallons *10\n",
    "        self.gas_level += unit_increase # self.gas_level = self.gas_level + unit_increase\n",
    "        print(f\"The {self.color} {self.model} now has a gas level of {self.gas_level}\")\n",
    "    \n",
    "car1 = Car('Blue', 'accord')\n",
    "car2 = Car('Green', 'civic')\n",
    "\n",
    "car1.drive(100) #gas_level should decrease by 20\n",
    "car1.fill_up(5) #gas_level should increase by 50\n",
    "car2.drive(50)\n",
    "car2.fill_up(3)"
   ]
  },
  {
   "cell_type": "markdown",
   "metadata": {},
   "source": [
    "## Classes as Attributes <br>\n",
    "<p>Classes can also be used as attributes within another class. This is useful in situations where you need to keep variables locally stored, instead of globally stored.</p>"
   ]
  },
  {
   "cell_type": "code",
   "execution_count": 170,
   "metadata": {},
   "outputs": [],
   "source": [
    "class Album:\n",
    "    def __init__(self, title, artist, release_year, song_list=[]):\n",
    "        self.title = title\n",
    "        self.artist = artist\n",
    "        self.release_year = release_year\n",
    "        self.song_list = song_list\n",
    "        \n",
    "        \n",
    "    def add_song(self,song):\n",
    "        self.song_list.append(song)\n",
    "        print(f\"{song.name} has been added to the album at position #{len(self.song_list)}\")\n",
    "        \n",
    "    def play_album(self):\n",
    "        for song in self.song_list:\n",
    "            song.play()\n",
    "        \n",
    "class Song:\n",
    "    def __init__(self, name, length):\n",
    "        self.name = name\n",
    "        self.length = length\n",
    "        \n",
    "    def play(self):\n",
    "        print(f\"{self.name} is playing for the next {self.length}\")\n",
    "        \n",
    "abbey_road = Album(\"Abbey Road\", \"The beatles\", 1969) \n",
    "song1 = Song(\"Come together\", \"4:19\")\n",
    "song2 = Song(\"Something\", \"3:02\")\n",
    "song3 = Song(\"Maxwell's silver hammer\", \"3:27\")"
   ]
  },
  {
   "cell_type": "code",
   "execution_count": 171,
   "metadata": {},
   "outputs": [
    {
     "name": "stdout",
     "output_type": "stream",
     "text": [
      "Come together has been added to the album at position #1\n",
      "Something has been added to the album at position #2\n",
      "Maxwell's silver hammer has been added to the album at position #3\n"
     ]
    }
   ],
   "source": [
    "abbey_road.add_song(song1)\n",
    "abbey_road.add_song(song2)\n",
    "abbey_road.add_song(song3)"
   ]
  },
  {
   "cell_type": "code",
   "execution_count": 172,
   "metadata": {},
   "outputs": [
    {
     "name": "stdout",
     "output_type": "stream",
     "text": [
      "Come together is playing for the next 4:19\n"
     ]
    }
   ],
   "source": [
    "song1.play()"
   ]
  },
  {
   "cell_type": "code",
   "execution_count": 173,
   "metadata": {},
   "outputs": [
    {
     "name": "stdout",
     "output_type": "stream",
     "text": [
      "Come together is playing for the next 4:19\n",
      "Something is playing for the next 3:02\n",
      "Maxwell's silver hammer is playing for the next 3:27\n"
     ]
    }
   ],
   "source": [
    "abbey_road.play_album()"
   ]
  },
  {
   "cell_type": "markdown",
   "metadata": {},
   "source": [
    "# Exercises"
   ]
  },
  {
   "cell_type": "markdown",
   "metadata": {},
   "source": [
    "### Exercise 1 - Turn the shopping cart program into an object-oriented program"
   ]
  },
  {
   "cell_type": "code",
   "execution_count": 189,
   "metadata": {},
   "outputs": [
    {
     "name": "stdout",
     "output_type": "stream",
     "text": [
      "Would you like to add/remove/show/quit add\n",
      "What item would you like to add to your cart? banana\n",
      "What is the price? 1\n",
      "Would you like to add/remove/show/quit add\n",
      "What item would you like to add to your cart? apple\n",
      "What is the price? 3\n",
      "Would you like to add/remove/show/quit quit\n",
      "[<__main__.Item object at 0x0000025FA2067DC0>, <__main__.Item object at 0x0000025FA2071940>]\n",
      "banana - 1\n",
      "apple - 3\n"
     ]
    }
   ],
   "source": [
    "# Create a class called cart that retains items and has methods to add, remove, and show\n",
    "class Cart():\n",
    "    def __init__(self):\n",
    "        self.products = []\n",
    "        \n",
    "    def add_item(self, item):\n",
    "        self.products.append(item)\n",
    "    \n",
    "    def show_cart(self, )\n",
    "        \n",
    "class Item:\n",
    "    def __init__(self, title, price):\n",
    "        self.title = title\n",
    "        self.price = price\n",
    "                \n",
    "def main():\n",
    "    my_cart = Cart()\n",
    "    while True:\n",
    "        ask = input(\"Would you like to add/remove/show/quit \").lower()\n",
    "        if ask == \"quit\":\n",
    "            break\n",
    "        elif ask == \"add\":\n",
    "            title = input(\"What item would you like to add to your cart? \")\n",
    "            price = input(\"What is the price? \")\n",
    "            new_item = Item(title, price)\n",
    "            my_cart.add_item(new_item)\n",
    "    print(my_cart.products)\n",
    "            \n",
    "    for item in my_cart.products:\n",
    "        print(f\"{item.title} - {item.price}\")\n",
    "            \n",
    "            \n",
    "main()"
   ]
  },
  {
   "cell_type": "markdown",
   "metadata": {},
   "source": [
    "### Exercise 2 - Write a Python class for an Animal that has a name and energy attributes. The animal class should also have methods for eat, sleep, and play that will take in an integer and increase/decrease the energy of the animal with a formatted print statement"
   ]
  },
  {
   "cell_type": "code",
   "execution_count": 176,
   "metadata": {},
   "outputs": [],
   "source": []
  },
  {
   "cell_type": "code",
   "execution_count": null,
   "metadata": {},
   "outputs": [],
   "source": [
    "# Example 1\n",
    "# buddy = Animal('Buddy', 10)\n",
    "# buddy.play(5) -> \"Buddy is playing for 5 minutes. His energy is now 5\"\n",
    "# buddy.sleep(10) -> \"Buddy is sleeping for 10 minutes. His energy is now 15\"\n",
    "# playing decreases energy\n",
    "# sleeping and eating increases energy"
   ]
  },
  {
   "cell_type": "code",
   "execution_count": 186,
   "metadata": {},
   "outputs": [
    {
     "name": "stdout",
     "output_type": "stream",
     "text": [
      "buddy is playing for 5 minutes. His energy is now 5\n",
      "buddy is sleeping for 10 minutes. his energy is now 15\n"
     ]
    }
   ],
   "source": [
    "class Animal:\n",
    "    def __init__(self, name, energy):\n",
    "        self.name = name\n",
    "        self.energy = energy\n",
    "        \n",
    "    def play(self, energy_fallen):\n",
    "        decrease_energy = energy_fallen +0\n",
    "        print(f\"{self.name} is playing for 5 minutes. His energy is now {decrease_energy}\")\n",
    "        \n",
    "    def sleep(self, energy_risen):\n",
    "        increased_energy = energy_risen +5\n",
    "        print(f\"{self.name} is sleeping for 10 minutes. his energy is now {increased_energy}\")\n",
    "        \n",
    "buddy = Animal('buddy',10)\n",
    "buddy.play(5)\n",
    "buddy.sleep(10)"
   ]
  },
  {
   "cell_type": "code",
   "execution_count": null,
   "metadata": {},
   "outputs": [],
   "source": [
    "# class Car:\n",
    "#     make =\"honda\"\n",
    "    \n",
    "#     def __init__(self, color, model, gas_level=100):\n",
    "#         self.color = color\n",
    "#         self.model = model\n",
    "#         self.gas_level = gas_level\n",
    "\n",
    "#     def drive(self, num_miles_driven):\n",
    "#         unit_decrease = num_miles_driven // 5\n",
    "#         self.gas_level -= unit_decrease #self.gas_level = self.gas_level - unit_decrease\n",
    "#         print(f\"The {self.color} {self.model} now has a gas level of {self.gas_level}\")\n",
    "\n",
    "    \n",
    "#     def fill_up(self, gallons):\n",
    "#         unit_increase = gallons *10\n",
    "#         self.gas_level += unit_increase # self.gas_level = self.gas_level + unit_increase\n",
    "#         print(f\"The {self.color} {self.model} now has a gas level of {self.gas_level}\")\n",
    "    \n",
    "# car1 = Car('Blue', 'accord')\n",
    "# car2 = Car('Green', 'civic')\n"
   ]
  }
 ],
 "metadata": {
  "kernelspec": {
   "display_name": "Python 3 (ipykernel)",
   "language": "python",
   "name": "python3"
  },
  "language_info": {
   "codemirror_mode": {
    "name": "ipython",
    "version": 3
   },
   "file_extension": ".py",
   "mimetype": "text/x-python",
   "name": "python",
   "nbconvert_exporter": "python",
   "pygments_lexer": "ipython3",
   "version": "3.9.12"
  },
  "vscode": {
   "interpreter": {
    "hash": "f65b1abf345d0870f18aefd74abdcea281b0228dda9b035f5fbb0df01284c7f0"
   }
  }
 },
 "nbformat": 4,
 "nbformat_minor": 2
}
